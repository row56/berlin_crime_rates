{
 "cells": [
  {
   "cell_type": "markdown",
   "metadata": {},
   "source": [
    "# First attempt: Heatmap\n",
    "\n",
    "The primary objective for generating the plot consisted in illustrating the temporal development of crime rates across the 12 districts of Berlin to facilitate comparative analysis. Additionally, the aim was to explore variations in the rates of different types of crimes in relation to the overall crime rate.\n",
    "\n",
    "The initial approach involved creating an animated heatmap plot, depicting a geographical map of Berlin. Different colors were employed to represent the count of crimes within each LOR sub-district. For this purpose, geospatial data from the \"LOR Planungsräume\" dataset was used."
   ]
  }
 ],
 "metadata": {
  "kernelspec": {
   "display_name": "Python 3",
   "language": "python",
   "name": "python3"
  },
  "language_info": {
   "codemirror_mode": {
    "name": "ipython",
    "version": 3
   },
   "file_extension": ".py",
   "mimetype": "text/x-python",
   "name": "python",
   "nbconvert_exporter": "python",
   "pygments_lexer": "ipython3",
   "version": "3.11.3"
  }
 },
 "nbformat": 4,
 "nbformat_minor": 2
}