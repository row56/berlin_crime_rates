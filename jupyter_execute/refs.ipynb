{
 "cells": [
  {
   "cell_type": "markdown",
   "metadata": {},
   "source": [
    "# References\n",
    "<a id=\"1\">[1]</a> \n",
    "**Berlin Open Data Portal**\\\n",
    "*Direct Link [Last Accessed: 09 August 2023]:* <br>\n",
    " https://daten.berlin.de\n",
    "\n",
    " <a id=\"2\">[2]</a> \n",
    "**ColorHexa Colors Chart**\\\n",
    "*Direct Link [Last Accessed: 09 August 2023]:* <br>\n",
    " https://www.colorhexa.com/web-safe-colors"
   ]
  }
 ],
 "metadata": {
  "language_info": {
   "codemirror_mode": {
    "name": "ipython",
    "version": 3
   },
   "file_extension": ".py",
   "mimetype": "text/x-python",
   "name": "python",
   "nbconvert_exporter": "python",
   "pygments_lexer": "ipython3",
   "version": "3.11.3"
  }
 },
 "nbformat": 4,
 "nbformat_minor": 2
}