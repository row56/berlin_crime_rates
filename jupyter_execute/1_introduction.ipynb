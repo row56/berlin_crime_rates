{
 "cells": [
  {
   "cell_type": "markdown",
   "metadata": {},
   "source": [
    "# Introduction"
   ]
  },
  {
   "cell_type": "markdown",
   "metadata": {},
   "source": [
    "## Outline\n",
    "\n",
    "This report showcases the process of creating and refining a time-series chart that presents different crime rates in various districts of Berlin. The process involved several attempts using different visualization techniques. After identifying the shortcomings of each version, the final plot was created. The chart is designed to be easily understandable, making it suitable for a broad audience interested in crime statistics for Berlin neighborhoods. This audience includes Berlin residents, policymakers, sociologists, and anyone curious about the changing patterns of crime across different areas of the city."
   ]
  },
  {
   "cell_type": "markdown",
   "metadata": {},
   "source": [
    "## Data Selection & Preparation\n",
    "\n",
    "Our data selection methodology is comprehensively explained in the group report. The visualizations presented in this report predominantly rely on the “Kriminalitätsatlas” dataset, which proved to be highly practical and straightforward to preprocess. This dataset encompasses the past decade’s data, which has been restructured to align with the updated LOR divisions. The other three datasets used were called \"Umweltgerechtigkeit\", \"Monitoring Soziale Stadtentwicklung\" and \"LOR Planungsräume\". Additional information on this process is available in the group report."
   ]
  },
  {
   "cell_type": "markdown",
   "metadata": {},
   "source": [
    "## Remark\n",
    "\n",
    "Certain plots were not displayed as intended in the HTML file, appearing as static images without animations. This made it necessary to export these graphics as separate files and embed them directly into the html file. To ensure consistent visual presentation, this was done for all relevant visualizations (which does not include the depiction of the colormaps). The code remains accessible for review, yielding the same results one can see in the embedded images. Typical environments for Python and R can be used to yield those images as outputs."
   ]
  }
 ],
 "metadata": {
  "language_info": {
   "codemirror_mode": {
    "name": "ipython",
    "version": 3
   },
   "file_extension": ".py",
   "mimetype": "text/x-python",
   "name": "python",
   "nbconvert_exporter": "python",
   "pygments_lexer": "ipython3",
   "version": "3.11.3"
  }
 },
 "nbformat": 4,
 "nbformat_minor": 2
}