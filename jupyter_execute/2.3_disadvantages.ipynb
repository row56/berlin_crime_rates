{
 "cells": [
  {
   "cell_type": "markdown",
   "metadata": {},
   "source": [
    "# Identifying Disadvantages\n",
    "\n",
    "Regrettably, the finished plot lacked the interactivity present in its static predecessor. As a result, the animated plot offered a general overview of crime rate development in Berlin's areas but with limited informativeness and meaningfulness. The inability to view the entire development at once further hindered comprehension.\n",
    "\n",
    "Another significant problem in this representation was the distortion caused by extremely high crime rates in certain areas. For instance, the government district emerged as the most extreme outlier, exhibiting relatively high absolute numbers, but mainly due to its sparse population. Consequently, crimes per 100,000 residents appeared exceptionally elevated, misrepresenting the actual crime incidence. Addressing this issue proved challenging since using absolute numbers could bias the results towards districts with larger populations.\n",
    "\n",
    "Furthermore, the LOR geodata represented the smallest units, while crime numbers pertained to higher-level units that combined several of the smallest units. Despite efforts to merge multipolygons, difficulties were encountered, so the same relative crime numbers for all sub-districts were used. This portrayal leads viewers to believe that sub-districts were independent entities with individual crime statistics, thereby introducing a misleading aspect to the map."
   ]
  }
 ],
 "metadata": {
  "language_info": {
   "codemirror_mode": {
    "name": "ipython",
    "version": 3
   },
   "file_extension": ".py",
   "mimetype": "text/x-python",
   "name": "python",
   "nbconvert_exporter": "python",
   "pygments_lexer": "ipython3",
   "version": "3.11.3"
  }
 },
 "nbformat": 4,
 "nbformat_minor": 2
}